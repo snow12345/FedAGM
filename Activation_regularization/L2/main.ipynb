{
 "cells": [
  {
   "cell_type": "code",
   "execution_count": 1,
   "metadata": {},
   "outputs": [],
   "source": [
    "import sys\n",
    "sys.argv=['main.ipynb', '--config', 'configs/cifar_Fedavg.yaml','--data', '../../data','--centralized','--federated_iid','--federated_skew1class','--federated_dirichlet','--dirichlet_alpha','0.6','--batch_size','50',\"--centralized_epochs\",'3',\"--global_epochs\",'3','--alpha','0.5','--epsilon','0.1','--momentum','0.0','--lr','0.1','--learning_rate_decay','0.992','--weight_decay','1e-3','--seed','2021']"
   ]
  },
  {
   "cell_type": "code",
   "execution_count": 2,
   "metadata": {},
   "outputs": [
    {
     "name": "stdout",
     "output_type": "stream",
     "text": [
      "=> Reading YAML config from configs/cifar_Fedavg.yaml\n"
     ]
    }
   ],
   "source": [
    "from args import args"
   ]
  },
  {
   "cell_type": "code",
   "execution_count": 3,
   "metadata": {},
   "outputs": [
    {
     "name": "stderr",
     "output_type": "stream",
     "text": [
      "No traceback available to show.\n"
     ]
    }
   ],
   "source": [
    "%tb"
   ]
  },
  {
   "cell_type": "code",
   "execution_count": 4,
   "metadata": {},
   "outputs": [
    {
     "data": {
      "text/plain": [
       "Namespace(alpha=0.5, alpha_divide_epoch=False, alpha_mul_epoch=False, arch='Conv2', batch_size=50, centralized=True, centralized_epochs=3, config='configs/cifar_Fedavg.yaml', cuda_visible_device=0, data='../../data', dirichlet_alpha=0.6, epsilon=0.1, federated_dirichlet=True, federated_iid=True, federated_skew1class=True, global_epochs=3, learning_rate_decay=0.992, local_epochs=5, log_dir=None, lr=0.1, momentum=0.0, num_classes=10, num_of_clients=100, optimizer='sgd', participation_rate=0.1, print_freq=1, seed=2021, set='CIFAR10', weight_decay=0.001, workers=20)"
      ]
     },
     "execution_count": 4,
     "metadata": {},
     "output_type": "execute_result"
    }
   ],
   "source": [
    "args"
   ]
  },
  {
   "cell_type": "code",
   "execution_count": 5,
   "metadata": {},
   "outputs": [],
   "source": [
    "import torch\n",
    "import torchvision\n",
    "from torchvision import datasets, transforms\n",
    "import numpy as np\n",
    "from torch import nn\n",
    "import torch.nn.functional as F\n",
    "from torch.utils.data import DataLoader, Dataset\n",
    "import copy\n",
    "import os\n",
    "os.environ[\"CUDA_DEVICE_ORDER\"]=\"PCI_BUS_ID\"   \n",
    "\n",
    "os.environ[\"CUDA_VISIBLE_DEVICES\"]=str(args.cuda_visible_device)\n",
    "\n",
    "import matplotlib.pyplot as plt\n",
    "import torch.optim as optim\n",
    "import random\n",
    "import models"
   ]
  },
  {
   "cell_type": "code",
   "execution_count": null,
   "metadata": {},
   "outputs": [],
   "source": []
  },
  {
   "cell_type": "code",
   "execution_count": null,
   "metadata": {},
   "outputs": [],
   "source": []
  },
  {
   "cell_type": "code",
   "execution_count": 6,
   "metadata": {},
   "outputs": [],
   "source": [
    "random_seed=args.seed\n",
    "torch.manual_seed(random_seed)\n",
    "torch.cuda.manual_seed(random_seed)\n",
    "torch.cuda.manual_seed_all(random_seed) # if use multi-GPU\n",
    "torch.backends.cudnn.deterministic = True\n",
    "torch.backends.cudnn.benchmark = False\n",
    "np.random.seed(random_seed)\n",
    "random.seed(random_seed)"
   ]
  },
  {
   "cell_type": "code",
   "execution_count": 7,
   "metadata": {},
   "outputs": [],
   "source": [
    "device = torch.device(\"cuda:0\" if torch.cuda.is_available() else \"cpu\")"
   ]
  },
  {
   "cell_type": "code",
   "execution_count": 8,
   "metadata": {},
   "outputs": [],
   "source": [
    "transform = transforms.Compose(\n",
    "    [transforms.ToTensor(),\n",
    "     transforms.Normalize((0.5, 0.5, 0.5), (0.5, 0.5, 0.5))])"
   ]
  },
  {
   "cell_type": "code",
   "execution_count": 9,
   "metadata": {},
   "outputs": [
    {
     "name": "stdout",
     "output_type": "stream",
     "text": [
      "Files already downloaded and verified\n",
      "Files already downloaded and verified\n"
     ]
    }
   ],
   "source": [
    "\n",
    "trainset = torchvision.datasets.CIFAR10(root=args.data, train=True,\n",
    "                                        download=True, transform=transform)\n",
    "CIFAR_SGD_trainloader = torch.utils.data.DataLoader(trainset, batch_size=args.batch_size,\n",
    "                                          shuffle=True, num_workers=args.workers)\n",
    "\n",
    "testset = torchvision.datasets.CIFAR10(root=args.data, train=False,\n",
    "                                       download=True, transform=transform)\n",
    "testloader = torch.utils.data.DataLoader(testset, batch_size=args.batch_size,\n",
    "                                         shuffle=False, num_workers=args.workers)\n"
   ]
  },
  {
   "cell_type": "code",
   "execution_count": 10,
   "metadata": {},
   "outputs": [],
   "source": [
    "classes = ('plane', 'car', 'bird', 'cat',\n",
    "           'deer', 'dog', 'frog', 'horse', 'ship', 'truck')"
   ]
  },
  {
   "cell_type": "code",
   "execution_count": 11,
   "metadata": {},
   "outputs": [],
   "source": [
    "# function to show an image\n",
    "def imshow(img):\n",
    "    img = img / 2 + 0.5     # unnormalize\n",
    "    npimg = img.numpy()\n",
    "    #print(npimg)\n",
    "    print(np.transpose(npimg, (1, 2, 0)).shape)\n",
    "    plt.imshow(np.transpose(npimg, (1, 2, 0)))\n",
    "    #plt.imshow(np.transpose(npimg))#, (1, 2, 0)))\n",
    "    plt.show()"
   ]
  },
  {
   "cell_type": "code",
   "execution_count": 12,
   "metadata": {},
   "outputs": [],
   "source": [
    "class DatasetSplit(Dataset):\n",
    "    \"\"\"An abstract Dataset class wrapped around Pytorch Dataset class.\n",
    "    \"\"\"\n",
    "\n",
    "    def __init__(self, dataset, idxs):\n",
    "        self.dataset = dataset\n",
    "        self.idxs = [int(i) for i in idxs]\n",
    "\n",
    "    def __len__(self):\n",
    "        return len(self.idxs)\n",
    "\n",
    "    def __getitem__(self, item):\n",
    "        image, label = self.dataset[self.idxs[item]]\n",
    "        return torch.tensor(image), torch.tensor(label)"
   ]
  },
  {
   "cell_type": "code",
   "execution_count": 13,
   "metadata": {},
   "outputs": [],
   "source": [
    "def cifar_iid(dataset, num_users):\n",
    "    \"\"\"\n",
    "    Sample I.I.D. client data from CIFAR10 dataset\n",
    "    :param dataset:\n",
    "    :param num_users:\n",
    "    :return: dict of image index\n",
    "    \"\"\"\n",
    "    num_items = int(len(dataset)/num_users)\n",
    "    #num_items=8\n",
    "    dict_users, all_idxs = {}, [i for i in range(len(dataset))]\n",
    "    for i in range(num_users):\n",
    "        dict_users[i] = set(np.random.choice(all_idxs, num_items, replace=False))\n",
    "        all_idxs = list(set(all_idxs) - dict_users[i])\n",
    "    return dict_users"
   ]
  },
  {
   "cell_type": "code",
   "execution_count": 14,
   "metadata": {},
   "outputs": [],
   "source": [
    "def cifar_noniid(dataset, num_users):\n",
    "    \"\"\"\n",
    "    Sample non-I.I.D client data from CIFAR10 dataset\n",
    "    :param dataset:\n",
    "    :param num_users:\n",
    "    :return:\n",
    "    \"\"\"\n",
    "    #num_shards, num_imgs = 200, 250\n",
    "    #num_shards, num_imgs = 200, 250\n",
    "    class_per_user=1\n",
    "    num_shards=num_users*class_per_user\n",
    "    num_imgs=int(len(dataset)/num_shards)\n",
    "    idx_shard = [i for i in range(num_shards)]\n",
    "    dict_users = {i: np.array([],dtype='int64') for i in range(num_users)}\n",
    "    idxs = np.arange(num_shards*num_imgs)\n",
    "    # labels = dataset.train_labels.numpy()\n",
    "    #labels = np.array(dataset.train_labels)\n",
    "\n",
    "    labels=[]\n",
    "    for element in dataset:\n",
    "        labels.append(int(element[1]))\n",
    "    #print(type(labels[0]))\n",
    "    labels=np.array(labels)\n",
    "    #labels=labels.astype('int64')\n",
    "    # sort labels\n",
    "    \n",
    "    idxs_labels = np.vstack((idxs, labels))\n",
    "    idxs_labels = idxs_labels[:, idxs_labels[1, :].argsort()]\n",
    "    idxs = idxs_labels[0, :]\n",
    "\n",
    "    # divide and assign\n",
    "    for i in range(num_users):\n",
    "        rand_set = set(np.random.choice(idx_shard, class_per_user, replace=False))\n",
    "        idx_shard = list(set(idx_shard) - rand_set)\n",
    "        for rand in rand_set:\n",
    "            dict_users[i] = np.concatenate(\n",
    "                (dict_users[i], idxs[rand*num_imgs:(rand+1)*num_imgs]), axis=0)\n",
    "    return dict_users"
   ]
  },
  {
   "cell_type": "code",
   "execution_count": 15,
   "metadata": {},
   "outputs": [],
   "source": [
    "def cifar_dirichlet(dataset, n_nets, alpha=0.5):\n",
    "    '''\n",
    "    if dataset == 'mnist':\n",
    "        X_train, y_train, X_test, y_test = load_mnist_data(datadir)\n",
    "    elif dataset == 'cifar10':\n",
    "        X_train, y_train, X_test, y_test = load_cifar10_data(datadir)\n",
    "    '''\n",
    "    #X_train=dataset[:][0]\n",
    "    y_train=torch.zeros(len(dataset),dtype=torch.long)\n",
    "    print(y_train.dtype)\n",
    "    for a in range(len(dataset)):\n",
    "        y_train[a]=(dataset[a][1])\n",
    "    n_train = len(dataset)\n",
    "    #X_train.shape[0]\n",
    "    '''\n",
    "    if partition == \"homo\":\n",
    "        idxs = np.random.permutation(n_train)\n",
    "        batch_idxs = np.array_split(idxs, n_nets)\n",
    "        net_dataidx_map = {i: batch_idxs[i] for i in range(n_nets)}\n",
    "    '''\n",
    "    #elif partition == \"hetero-dir\":\n",
    "    min_size = 0\n",
    "    K = 10\n",
    "    N=len(dataset)\n",
    "    N = y_train.shape[0]\n",
    "    net_dataidx_map = {i: np.array([],dtype='int64') for i in range(n_nets)}\n",
    "\n",
    "    while min_size < 10:\n",
    "        idx_batch = [[] for _ in range(n_nets)]\n",
    "        for k in range(K):\n",
    "            idx_k = np.where(y_train == k)[0]\n",
    "            np.random.shuffle(idx_k)\n",
    "            proportions = np.random.dirichlet(np.repeat(alpha, n_nets))\n",
    "            ## Balance\n",
    "            proportions = np.array([p*(len(idx_j)<N/n_nets) for p,idx_j in zip(proportions,idx_batch)])\n",
    "            proportions = proportions/proportions.sum()\n",
    "            proportions = (np.cumsum(proportions)*len(idx_k)).astype(int)[:-1]\n",
    "            idx_batch = [idx_j + idx.tolist() for idx_j,idx in zip(idx_batch,np.split(idx_k,proportions))]\n",
    "            min_size = min([len(idx_j) for idx_j in idx_batch])\n",
    "\n",
    "        for j in range(n_nets):\n",
    "            np.random.shuffle(idx_batch[j])\n",
    "            net_dataidx_map[j] = idx_batch[j]\n",
    "\n",
    "    #traindata_cls_counts = record_net_data_stats(y_train, net_dataidx_map, logdir)\n",
    "    return net_dataidx_map\n",
    "    #return (X_train, y_train, X_test, y_test, net_dataidx_map, traindata_cls_counts)"
   ]
  },
  {
   "cell_type": "code",
   "execution_count": 16,
   "metadata": {},
   "outputs": [],
   "source": [
    "def get_model(args):\n",
    "\n",
    "    print(\"=> Creating model '{}'\".format(args.arch))\n",
    "    model = models.__dict__[args.arch]()\n",
    "    return model"
   ]
  },
  {
   "cell_type": "code",
   "execution_count": null,
   "metadata": {},
   "outputs": [],
   "source": []
  },
  {
   "cell_type": "code",
   "execution_count": 17,
   "metadata": {},
   "outputs": [
    {
     "name": "stdout",
     "output_type": "stream",
     "text": [
      "=> Creating model 'Conv2'\n",
      "==> No gradient to conv1_global.weight\n",
      "==> No gradient to conv1_global.bias\n",
      "==> No gradient to conv2_global.weight\n",
      "==> No gradient to conv2_global.bias\n",
      "==> No gradient to fc1_global.weight\n",
      "==> No gradient to fc1_global.bias\n",
      "==> No gradient to fc2_global.weight\n",
      "==> No gradient to fc2_global.bias\n",
      "==> No gradient to fc3_global.weight\n",
      "==> No gradient to fc3_global.bias\n"
     ]
    }
   ],
   "source": [
    "if args.centralized==True:\n",
    "    net = get_model(args)\n",
    "    net.to(device)\n",
    "    criterion = nn.CrossEntropyLoss()\n",
    "    optimizer = optim.SGD(net.parameters(), lr=args.lr,momentum=args.momentum,weight_decay=args.weight_decay)\n",
    "    scheduler = optim.lr_scheduler.LambdaLR(optimizer=optimizer,\n",
    "                                    lr_lambda=lambda epoch: args.learning_rate_decay ** epoch,\n",
    "                                    )\n",
    "    loss_train = []\n",
    "    acc_train=[]"
   ]
  },
  {
   "cell_type": "code",
   "execution_count": null,
   "metadata": {},
   "outputs": [],
   "source": []
  },
  {
   "cell_type": "code",
   "execution_count": 18,
   "metadata": {},
   "outputs": [
    {
     "name": "stderr",
     "output_type": "stream",
     "text": [
      "/home/dana/anaconda3/lib/python3.7/site-packages/torch/nn/functional.py:718: UserWarning: Named tensors and all their associated APIs are an experimental feature and subject to change. Please do not use them for anything important until they are released as stable. (Triggered internally at  /pytorch/c10/core/TensorImpl.h:1156.)\n",
      "  return torch.max_pool2d(input, kernel_size, stride, padding, dilation, ceil_mode)\n"
     ]
    },
    {
     "name": "stdout",
     "output_type": "stream",
     "text": [
      "epoch: 0\n",
      " Average loss 1.423\n",
      "Accuracy of the network on the 10000 test images: 53.510000 %\n",
      "epoch: 1\n",
      " Average loss 0.872\n",
      "Accuracy of the network on the 10000 test images: 63.930000 %\n",
      "epoch: 2\n",
      " Average loss 1.220\n",
      "Accuracy of the network on the 10000 test images: 64.150000 %\n"
     ]
    }
   ],
   "source": [
    "if args.centralized==True:\n",
    "    for epoch in range(args.centralized_epochs):   # 데이터셋을 수차례 반복합니다.\n",
    "\n",
    "        running_loss = 0.0\n",
    "        for i, data in enumerate(CIFAR_SGD_trainloader, 0):\n",
    "            # [inputs, labels]의 목록인 data로부터 입력을 받은 후;\n",
    "            inputs, labels = data[0].to(device), data[1].to(device)\n",
    "            #print(labels)\n",
    "\n",
    "            # 변화도(Gradient) 매개변수를 0으로 만들고\n",
    "            optimizer.zero_grad()\n",
    "\n",
    "            # 순전파 + 역전파 + 최적화를 한 후\n",
    "            outputs = net(inputs)\n",
    "            #print(outputs)\n",
    "            loss = criterion(outputs, labels)\n",
    "            loss.backward()\n",
    "            optimizer.step()\n",
    "            \n",
    "\n",
    "\n",
    "        if epoch%args.print_freq==0:\n",
    "            loss_train.append(loss)\n",
    "            print(f\"epoch: {epoch}\")\n",
    "            print(' Average loss {:.3f}'.format( loss))\n",
    "            for j in range(1):\n",
    "                net.eval()         \n",
    "                correct = 0\n",
    "                total = 0\n",
    "                with torch.no_grad():\n",
    "                    for data in testloader:\n",
    "                        images, labels = data[0].to(device), data[1].to(device)\n",
    "                        outputs = net(images)\n",
    "                        _, predicted = torch.max(outputs.data, 1)\n",
    "                        total += labels.size(0)\n",
    "                        correct += (predicted == labels).sum().item()\n",
    "\n",
    "                print('Accuracy of the network on the 10000 test images: %f %%' % (\n",
    "                    100 * correct / total))\n",
    "            acc_train.append(100 * correct / total)\n",
    "\n",
    "            net.train()\n",
    "        scheduler.step()\n",
    "            \n"
   ]
  },
  {
   "cell_type": "code",
   "execution_count": 19,
   "metadata": {},
   "outputs": [
    {
     "data": {
      "image/png": "[encoded data removed]",
      "text/plain": [
       "<Figure size 432x288 with 2 Axes>"
      ]
     },
     "metadata": {
      "needs_background": "light"
     },
     "output_type": "display_data"
    }
   ],
   "source": [
    "if args.centralized==True:\n",
    "    fig,ax1=plt.subplots()\n",
    "    ax2=ax1.twinx()\n",
    "    line1=ax1.plot(np.array(loss_train),color='g',label='loss_train')\n",
    "    line2=ax2.plot([i*1 for i in range(len(acc_train))],acc_train,label='acc_train')\n",
    "    lines=line1+line2\n",
    "    ax1.set_ylabel(\"loss\")\n",
    "    ax2.set_ylabel(\"accuracy\")\n",
    "    plt.xlabel('Epoch')\n",
    "    plt.title('Experiment Result')\n",
    "    plt.legend(lines,['loss_train','acc_train'])\n",
    "    plt.show()"
   ]
  },
  {
   "cell_type": "code",
   "execution_count": 20,
   "metadata": {},
   "outputs": [
    {
     "name": "stdout",
     "output_type": "stream",
     "text": [
      "Accuracy of the network on the 10000 test images: 64.150000 %\n"
     ]
    }
   ],
   "source": [
    "if args.centralized==True:\n",
    "    correct = 0\n",
    "    total = 0\n",
    "    with torch.no_grad():\n",
    "        for data in testloader:\n",
    "            images, labels = data[0].to(device), data[1].to(device)\n",
    "            outputs = net(images)\n",
    "            _, predicted = torch.max(outputs.data, 1)\n",
    "            total += labels.size(0)\n",
    "            correct += (predicted == labels).sum().item()\n",
    "\n",
    "    print('Accuracy of the network on the 10000 test images: %f %%' % (\n",
    "        100 * correct / total))\n"
   ]
  },
  {
   "cell_type": "code",
   "execution_count": 21,
   "metadata": {},
   "outputs": [],
   "source": [
    "class LocalUpdate(object):\n",
    "    def __init__(self, lr,local_epoch,device,batch_size, dataset=None, idxs=None,alpha=0.0001):\n",
    "        self.lr=lr\n",
    "        self.local_epoch=local_epoch\n",
    "        self.device=device\n",
    "        self.loss_func = nn.CrossEntropyLoss()\n",
    "        self.selected_clients = []\n",
    "        self.ldr_train = DataLoader(DatasetSplit(dataset, idxs), batch_size=batch_size, shuffle=True)\n",
    "        self.alpha=alpha\n",
    "\n",
    "    def train(self, net):\n",
    "        net.sync_online_and_global()\n",
    "        net.train()\n",
    "        # train and update\n",
    "        optimizer = optim.SGD(net.parameters(), lr=args.lr,momentum=args.momentum,weight_decay=args.weight_decay)\n",
    "        epoch_loss = []\n",
    "        for iter in range(self.local_epoch):\n",
    "            batch_loss = []\n",
    "            for batch_idx, (images, labels) in enumerate(self.ldr_train):\n",
    "                images, labels = images.to(self.device), labels.to(self.device)\n",
    "                net.zero_grad()\n",
    "                log_probs,activation_l2 = net(images,online_target=True)\n",
    "                loss = self.loss_func(log_probs, labels)+self.alpha*activation_l2\n",
    "                loss.backward()\n",
    "                optimizer.step()\n",
    "                batch_loss.append(loss.item())\n",
    "            epoch_loss.append(sum(batch_loss)/len(batch_loss))\n",
    "        return net.state_dict(), sum(epoch_loss) / len(epoch_loss)"
   ]
  },
  {
   "cell_type": "code",
   "execution_count": 22,
   "metadata": {},
   "outputs": [],
   "source": [
    "def do_federated_learning(mode='iid'):\n",
    "    FedAvg_model=get_model(args)\n",
    "    FedAvg_model.to(device)\n",
    "    criterion= nn.CrossEntropyLoss().to(device)\n",
    "    criterion= nn.CrossEntropyLoss().to(device)\n",
    "    FedAvg_model.train()\n",
    "    epoch_loss = []\n",
    "    weight_saved=FedAvg_model.state_dict()\n",
    "    \n",
    "    if mode=='iid':\n",
    "        CIFAR_dataset=cifar_iid(trainset, args.num_of_clients)\n",
    "    elif mode=='skew1class':\n",
    "        CIFAR_dataset=cifar_noniid(trainset, args.num_of_clients)\n",
    "    elif mode=='dirichlet':\n",
    "        CIFAR_dataset=cifar_dirichlet(trainset, args.num_of_clients,alpha=args.alpha)\n",
    "    else:\n",
    "        print(\"Invalid mode ==> please select in iid, skew1class, dirichlet\")\n",
    "        return\n",
    "    loss_train = []\n",
    "    acc_train=[]\n",
    "    this_lr=args.lr\n",
    "    this_alpha=args.alpha\n",
    "    for epoch in range(args.global_epochs):\n",
    "        local_weight=[]\n",
    "        local_loss=[]\n",
    "        m=max(int(args.participation_rate*args.num_of_clients),1)\n",
    "        selected_user=np.random.choice(range(args.num_of_clients),m,replace=False)\n",
    "        print(f\"This is global {epoch} epoch\")\n",
    "        for user in selected_user:\n",
    "            local_setting=LocalUpdate(lr=this_lr,local_epoch=args.local_epochs,device=device,batch_size=args.batch_size,dataset=trainset,idxs=CIFAR_dataset[user],alpha=this_alpha)\n",
    "            weight,loss=local_setting.train(net=copy.deepcopy(FedAvg_model).to(device))\n",
    "            local_weight.append(copy.deepcopy(weight))\n",
    "            local_loss.append(copy.deepcopy(loss))\n",
    "        FedAvg_weight=copy.deepcopy(local_weight[0])\n",
    "        for key in FedAvg_weight.keys():\n",
    "            for i in range(1,len(local_weight)):\n",
    "                FedAvg_weight[key]+=local_weight[i][key]\n",
    "            FedAvg_weight[key]/=len(local_weight)\n",
    "        FedAvg_model.load_state_dict(FedAvg_weight)\n",
    "        loss_avg = sum(local_loss) / len(local_loss)\n",
    "        print(' Average loss {:.3f}'.format( loss_avg))\n",
    "        loss_train.append(loss_avg)\n",
    "        if epoch%args.print_freq==0:\n",
    "            FedAvg_model.eval()         \n",
    "            correct = 0\n",
    "            total = 0\n",
    "            with torch.no_grad():\n",
    "                for data in testloader:\n",
    "                    images, labels = data[0].to(device), data[1].to(device)\n",
    "                    outputs = FedAvg_model(images)\n",
    "                    _, predicted = torch.max(outputs.data, 1)\n",
    "                    total += labels.size(0)\n",
    "                    correct += (predicted == labels).sum().item()\n",
    "\n",
    "            print('Accuracy of the network on the 10000 test images: %f %%' % (\n",
    "                100 * correct / float(total)))\n",
    "            acc_train.append(100 * correct / float(total))\n",
    "\n",
    "        FedAvg_model.train()\n",
    "        this_lr*=args.learning_rate_decay\n",
    "        if args.alpha_mul_epoch==True:\n",
    "            this_alpha*=global_epoch\n",
    "        elif args.alpha_divide_epoch==True:\n",
    "            this_alpha/=global_epoch\n",
    "            \n",
    "    fig,ax1=plt.subplots()\n",
    "    ax2=ax1.twinx()\n",
    "    line1=ax1.plot(np.array(loss_train),color='g',label='loss_train')\n",
    "    line2=ax2.plot([i*1 for i in range(len(acc_train))],acc_train,label='acc_train')\n",
    "    lines=line1+line2\n",
    "    ax1.set_ylabel(\"loss\")\n",
    "    ax2.set_ylabel(\"accuracy\")\n",
    "    plt.xlabel('Epoch')\n",
    "    plt.title('Experiment Result')\n",
    "    plt.legend(lines,['loss_train','acc_train'])\n",
    "    plt.show()\n",
    "    \n",
    "    \n",
    "    print('loss_train')\n",
    "    print(loss_train)\n",
    "    \n",
    "    print('acc_train')\n",
    "    print(acc_train)"
   ]
  },
  {
   "cell_type": "markdown",
   "metadata": {},
   "source": [
    "cifar10 FedAvg iid로 학습"
   ]
  },
  {
   "cell_type": "code",
   "execution_count": 23,
   "metadata": {},
   "outputs": [
    {
     "name": "stdout",
     "output_type": "stream",
     "text": [
      "=> Creating model 'Conv2'\n",
      "==> No gradient to conv1_global.weight\n",
      "==> No gradient to conv1_global.bias\n",
      "==> No gradient to conv2_global.weight\n",
      "==> No gradient to conv2_global.bias\n",
      "==> No gradient to fc1_global.weight\n",
      "==> No gradient to fc1_global.bias\n",
      "==> No gradient to fc2_global.weight\n",
      "==> No gradient to fc2_global.bias\n",
      "==> No gradient to fc3_global.weight\n",
      "==> No gradient to fc3_global.bias\n",
      "This is global 0 epoch\n"
     ]
    },
    {
     "name": "stderr",
     "output_type": "stream",
     "text": [
      "main.ipynb:14: UserWarning: To copy construct from a tensor, it is recommended to use sourceTensor.clone().detach() or sourceTensor.clone().detach().requires_grad_(True), rather than torch.tensor(sourceTensor).\n",
      "  \"cell_type\": \"code\",\n"
     ]
    },
    {
     "name": "stdout",
     "output_type": "stream",
     "text": [
      " Average loss 2.264\n",
      "Accuracy of the network on the 10000 test images: 26.400000 %\n",
      "This is global 1 epoch\n",
      " Average loss 2.076\n",
      "Accuracy of the network on the 10000 test images: 30.630000 %\n",
      "This is global 2 epoch\n",
      " Average loss 1.949\n",
      "Accuracy of the network on the 10000 test images: 31.370000 %\n"
     ]
    },
    {
     "data": {
      "image/png": "[encoded data removed]",
      "text/plain": [
       "<Figure size 432x288 with 2 Axes>"
      ]
     },
     "metadata": {
      "needs_background": "light"
     },
     "output_type": "display_data"
    },
    {
     "name": "stdout",
     "output_type": "stream",
     "text": [
      "loss_train\n",
      "[2.263628250598907, 2.076328611135483, 1.9485550451278688]\n",
      "acc_train\n",
      "[26.4, 30.63, 31.37]\n"
     ]
    }
   ],
   "source": [
    "if args.federated_iid==True:\n",
    "    do_federated_learning(mode='iid')"
   ]
  },
  {
   "cell_type": "markdown",
   "metadata": {},
   "source": [
    "cifar10 FedAvg Non-iid(skew1class)로 학습\n"
   ]
  },
  {
   "cell_type": "code",
   "execution_count": 24,
   "metadata": {},
   "outputs": [
    {
     "name": "stdout",
     "output_type": "stream",
     "text": [
      "=> Creating model 'Conv2'\n",
      "==> No gradient to conv1_global.weight\n",
      "==> No gradient to conv1_global.bias\n",
      "==> No gradient to conv2_global.weight\n",
      "==> No gradient to conv2_global.bias\n",
      "==> No gradient to fc1_global.weight\n",
      "==> No gradient to fc1_global.bias\n",
      "==> No gradient to fc2_global.weight\n",
      "==> No gradient to fc2_global.bias\n",
      "==> No gradient to fc3_global.weight\n",
      "==> No gradient to fc3_global.bias\n",
      "This is global 0 epoch\n"
     ]
    },
    {
     "name": "stderr",
     "output_type": "stream",
     "text": [
      "main.ipynb:14: UserWarning: To copy construct from a tensor, it is recommended to use sourceTensor.clone().detach() or sourceTensor.clone().detach().requires_grad_(True), rather than torch.tensor(sourceTensor).\n",
      "  \"cell_type\": \"code\",\n"
     ]
    },
    {
     "name": "stdout",
     "output_type": "stream",
     "text": [
      " Average loss 0.190\n",
      "Accuracy of the network on the 10000 test images: 10.000000 %\n",
      "This is global 1 epoch\n",
      " Average loss 0.069\n",
      "Accuracy of the network on the 10000 test images: 10.000000 %\n",
      "This is global 2 epoch\n",
      " Average loss 0.071\n",
      "Accuracy of the network on the 10000 test images: 10.000000 %\n"
     ]
    },
    {
     "data": {
      "image/png": "[encoded data removed]",
      "text/plain": [
       "<Figure size 432x288 with 2 Axes>"
      ]
     },
     "metadata": {
      "needs_background": "light"
     },
     "output_type": "display_data"
    },
    {
     "name": "stdout",
     "output_type": "stream",
     "text": [
      "loss_train\n",
      "[0.19035775416344403, 0.06920195847377181, 0.07083094497863203]\n",
      "acc_train\n",
      "[10.0, 10.0, 10.0]\n"
     ]
    }
   ],
   "source": [
    "if args.federated_skew1class==True:\n",
    "    do_federated_learning(mode='skew1class')"
   ]
  },
  {
   "cell_type": "markdown",
   "metadata": {},
   "source": [
    "cifar10 FedAvg Non-iid(dirichlet)로 학습"
   ]
  },
  {
   "cell_type": "code",
   "execution_count": 25,
   "metadata": {},
   "outputs": [
    {
     "name": "stdout",
     "output_type": "stream",
     "text": [
      "=> Creating model 'Conv2'\n",
      "==> No gradient to conv1_global.weight\n",
      "==> No gradient to conv1_global.bias\n",
      "==> No gradient to conv2_global.weight\n",
      "==> No gradient to conv2_global.bias\n",
      "==> No gradient to fc1_global.weight\n",
      "==> No gradient to fc1_global.bias\n",
      "==> No gradient to fc2_global.weight\n",
      "==> No gradient to fc2_global.bias\n",
      "==> No gradient to fc3_global.weight\n",
      "==> No gradient to fc3_global.bias\n",
      "torch.int64\n",
      "This is global 0 epoch\n"
     ]
    },
    {
     "name": "stderr",
     "output_type": "stream",
     "text": [
      "main.ipynb:14: UserWarning: To copy construct from a tensor, it is recommended to use sourceTensor.clone().detach() or sourceTensor.clone().detach().requires_grad_(True), rather than torch.tensor(sourceTensor).\n",
      "  \"cell_type\": \"code\",\n"
     ]
    },
    {
     "name": "stdout",
     "output_type": "stream",
     "text": [
      " Average loss 1.623\n",
      "Accuracy of the network on the 10000 test images: 10.000000 %\n",
      "This is global 1 epoch\n",
      " Average loss 1.559\n",
      "Accuracy of the network on the 10000 test images: 18.170000 %\n",
      "This is global 2 epoch\n",
      " Average loss 1.413\n",
      "Accuracy of the network on the 10000 test images: 26.890000 %\n"
     ]
    },
    {
     "data": {
      "image/png": "[encoded data removed]",
      "text/plain": [
       "<Figure size 432x288 with 2 Axes>"
      ]
     },
     "metadata": {
      "needs_background": "light"
     },
     "output_type": "display_data"
    },
    {
     "name": "stdout",
     "output_type": "stream",
     "text": [
      "loss_train\n",
      "[1.623359743809545, 1.558803197870781, 1.4130875331988704]\n",
      "acc_train\n",
      "[10.0, 18.17, 26.89]\n"
     ]
    }
   ],
   "source": [
    "if args.federated_dirichlet==True:\n",
    "    do_federated_learning(mode='dirichlet')"
   ]
  },
  {
   "cell_type": "code",
   "execution_count": null,
   "metadata": {},
   "outputs": [],
   "source": []
  }
 ],
 "metadata": {
  "kernelspec": {
   "display_name": "Python 3",
   "language": "python",
   "name": "python3"
  },
  "language_info": {
   "codemirror_mode": {
    "name": "ipython",
    "version": 3
   },
   "file_extension": ".py",
   "mimetype": "text/x-python",
   "name": "python",
   "nbconvert_exporter": "python",
   "pygments_lexer": "ipython3",
   "version": "3.7.4"
  }
 },
 "nbformat": 4,
 "nbformat_minor": 4
}
