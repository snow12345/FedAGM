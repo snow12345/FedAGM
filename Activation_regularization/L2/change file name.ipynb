{
 "cells": [
  {
   "cell_type": "code",
   "execution_count": 1,
   "metadata": {},
   "outputs": [],
   "source": [
    "import os,sys"
   ]
  },
  {
   "cell_type": "code",
   "execution_count": 2,
   "metadata": {},
   "outputs": [],
   "source": [
    "import subprocess\n",
    "import shlex"
   ]
  },
  {
   "cell_type": "code",
   "execution_count": 3,
   "metadata": {},
   "outputs": [],
   "source": [
    "command=shlex.split('ls')\n",
    "out=subprocess.Popen(command,stdout=subprocess.PIPE) "
   ]
  },
  {
   "cell_type": "code",
   "execution_count": 4,
   "metadata": {},
   "outputs": [],
   "source": [
    "a,b=out.communicate()"
   ]
  },
  {
   "cell_type": "code",
   "execution_count": 5,
   "metadata": {},
   "outputs": [
    {
     "name": "stdout",
     "output_type": "stream",
     "text": [
      "b'L2 activation regularization-lr0.1-B=40E=1momentum0.0-alpha=0.0001-cifar_dirichlet.ipynb\\nL2 activation regularization-lr0.1-B=40E=1momentum0.0-alpha=0.0001*global_epoch-cifar_dirichlet.ipynb\\nL2 activation regularization-lr0.1-B=40E=1momentum0.0-alpha=0.0001*global_epoch.ipynb\\nL2 activation regularization-lr0.1-B=40E=1momentum0.0-alpha=0.0001.ipynb\\nL2 activation regularization-lr0.1-B=40E=1momentum0.0-alpha=0.001-cifar_dirichlet.ipynb\\nL2 activation regularization-lr0.1-B=40E=1momentum0.0-alpha=0.001.ipynb\\nL2 activation regularization-lr0.1-B=40E=1momentum0.0-alpha=0.01-cifar_dirichlet.ipynb\\nL2 activation regularization-lr0.1-B=40E=1momentum0.0-alpha=0.01.ipynb\\nL2 activation regularization-lr0.1-B=40E=1momentum0.0-alpha=0.1-cifar_dirichlet.ipynb\\nL2 activation regularization-lr0.1-B=40E=1momentum0.0-alpha=0.1.ipynb\\nL2 activation regularization-lr0.1-B=40E=1momentum0.0-alpha=0.5 divide global_epoch-cifar_dirichlet.ipynb\\nL2 activation regularization-lr0.1-B=40E=1momentum0.0-alpha=0.5 divide global_epoch.ipynb\\nL2 activation regularization-lr0.1-B=40E=1momentum0.0-alpha=10-cifar_dirichlet.ipynb\\nL2 activation regularization-lr0.1-B=40E=1momentum0.0-alpha=10.ipynb\\nL2 activation regularization-lr0.1-B=40E=1momentum0.0-alpha=1-cifar_dirichlet.ipynb\\nL2 activation regularization-lr0.1-B=40E=1momentum0.0-alpha=1.ipynb\\nUntitled.ipynb\\n'\n"
     ]
    }
   ],
   "source": [
    "print(a)"
   ]
  },
  {
   "cell_type": "code",
   "execution_count": 6,
   "metadata": {},
   "outputs": [
    {
     "name": "stdout",
     "output_type": "stream",
     "text": [
      "L2 activation regularization-lr0.1-B=40E=1momentum0.0-alpha=0.0001-cifar_dirichlet.ipynb\n",
      "L2 activation regularization-lr0.1-B=40E=1momentum0.0-alpha=0.0001*global_epoch-cifar_dirichlet.ipynb\n",
      "L2 activation regularization-lr0.1-B=40E=1momentum0.0-alpha=0.0001*global_epoch.ipynb\n",
      "L2 activation regularization-lr0.1-B=40E=1momentum0.0-alpha=0.0001.ipynb\n",
      "L2 activation regularization-lr0.1-B=40E=1momentum0.0-alpha=0.001-cifar_dirichlet.ipynb\n",
      "L2 activation regularization-lr0.1-B=40E=1momentum0.0-alpha=0.001.ipynb\n",
      "L2 activation regularization-lr0.1-B=40E=1momentum0.0-alpha=0.01-cifar_dirichlet.ipynb\n",
      "L2 activation regularization-lr0.1-B=40E=1momentum0.0-alpha=0.01.ipynb\n",
      "L2 activation regularization-lr0.1-B=40E=1momentum0.0-alpha=0.1-cifar_dirichlet.ipynb\n",
      "L2 activation regularization-lr0.1-B=40E=1momentum0.0-alpha=0.1.ipynb\n",
      "L2 activation regularization-lr0.1-B=40E=1momentum0.0-alpha=0.5 divide global_epoch-cifar_dirichlet.ipynb\n",
      "L2 activation regularization-lr0.1-B=40E=1momentum0.0-alpha=0.5 divide global_epoch.ipynb\n",
      "L2 activation regularization-lr0.1-B=40E=1momentum0.0-alpha=10-cifar_dirichlet.ipynb\n",
      "L2 activation regularization-lr0.1-B=40E=1momentum0.0-alpha=10.ipynb\n",
      "L2 activation regularization-lr0.1-B=40E=1momentum0.0-alpha=1-cifar_dirichlet.ipynb\n",
      "L2 activation regularization-lr0.1-B=40E=1momentum0.0-alpha=1.ipynb\n",
      "Untitled.ipynb\n",
      "\n"
     ]
    }
   ],
   "source": [
    "result=a.decode('utf-8')\n",
    "\n",
    "print(result)"
   ]
  },
  {
   "cell_type": "code",
   "execution_count": 14,
   "metadata": {},
   "outputs": [],
   "source": [
    "def change_name(input):\n",
    "    parsed_by_linechange=input.split('\\n')\n",
    "    x=parsed_by_linechange\n",
    "    l=len(x)\n",
    "    result=[]\n",
    "    find_common=False\n",
    "    common=\"L2 activation regularization-\"\n",
    "    for i in range(l):\n",
    "        idx=l-1-i\n",
    "        el=x[idx]\n",
    "        if common in el:\n",
    "            find_common=True\n",
    "            this=el.split(common)[1]\n",
    "            result.append(this)\n",
    "            subprocess.Popen(['mv',el,this],stdout=subprocess.PIPE) \n",
    "    return result\n",
    "        "
   ]
  },
  {
   "cell_type": "code",
   "execution_count": 15,
   "metadata": {},
   "outputs": [
    {
     "data": {
      "text/plain": [
       "['lr0.1-B=40E=1momentum0.0-alpha=1.ipynb',\n",
       " 'lr0.1-B=40E=1momentum0.0-alpha=1-cifar_dirichlet.ipynb',\n",
       " 'lr0.1-B=40E=1momentum0.0-alpha=10.ipynb',\n",
       " 'lr0.1-B=40E=1momentum0.0-alpha=10-cifar_dirichlet.ipynb',\n",
       " 'lr0.1-B=40E=1momentum0.0-alpha=0.5 divide global_epoch.ipynb',\n",
       " 'lr0.1-B=40E=1momentum0.0-alpha=0.5 divide global_epoch-cifar_dirichlet.ipynb',\n",
       " 'lr0.1-B=40E=1momentum0.0-alpha=0.1.ipynb',\n",
       " 'lr0.1-B=40E=1momentum0.0-alpha=0.1-cifar_dirichlet.ipynb',\n",
       " 'lr0.1-B=40E=1momentum0.0-alpha=0.01.ipynb',\n",
       " 'lr0.1-B=40E=1momentum0.0-alpha=0.01-cifar_dirichlet.ipynb',\n",
       " 'lr0.1-B=40E=1momentum0.0-alpha=0.001.ipynb',\n",
       " 'lr0.1-B=40E=1momentum0.0-alpha=0.001-cifar_dirichlet.ipynb',\n",
       " 'lr0.1-B=40E=1momentum0.0-alpha=0.0001.ipynb',\n",
       " 'lr0.1-B=40E=1momentum0.0-alpha=0.0001*global_epoch.ipynb',\n",
       " 'lr0.1-B=40E=1momentum0.0-alpha=0.0001*global_epoch-cifar_dirichlet.ipynb',\n",
       " 'lr0.1-B=40E=1momentum0.0-alpha=0.0001-cifar_dirichlet.ipynb']"
      ]
     },
     "execution_count": 15,
     "metadata": {},
     "output_type": "execute_result"
    }
   ],
   "source": [
    "change_name(result)"
   ]
  },
  {
   "cell_type": "code",
   "execution_count": null,
   "metadata": {},
   "outputs": [],
   "source": []
  }
 ],
 "metadata": {
  "kernelspec": {
   "display_name": "Python 3",
   "language": "python",
   "name": "python3"
  },
  "language_info": {
   "codemirror_mode": {
    "name": "ipython",
    "version": 3
   },
   "file_extension": ".py",
   "mimetype": "text/x-python",
   "name": "python",
   "nbconvert_exporter": "python",
   "pygments_lexer": "ipython3",
   "version": "3.7.4"
  }
 },
 "nbformat": 4,
 "nbformat_minor": 2
}
